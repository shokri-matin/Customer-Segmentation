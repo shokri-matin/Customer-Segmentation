{
 "cells": [
  {
   "cell_type": "code",
   "execution_count": 1,
   "source": [
    "# Import Data\r\n",
    "import pandas as pd\r\n",
    "\r\n",
    "dataframe = pd.read_csv(\"Online Retail.csv\", encoding = \"ISO-8859-1\")\r\n",
    "dataframe[\"InvoiceDate\"] = pd.to_datetime(dataframe[\"InvoiceDate\"])\r\n",
    "dataframe.head()\r\n",
    "\r\n",
    "\r\n",
    "# Calculate RFM\r\n",
    "dataframe['TotalSum'] = dataframe['Quantity'] * dataframe['UnitPrice']\r\n",
    "snapshot_date = max(dataframe.InvoiceDate)\r\n",
    "datamart = dataframe.groupby('CustomerID').agg(\r\n",
    "    {\r\n",
    "        'InvoiceDate': lambda x: (snapshot_date - x.max()).days,\r\n",
    "        'InvoiceNo': 'count',\r\n",
    "        'TotalSum': 'sum'\r\n",
    "    }\r\n",
    ").round(1)\r\n",
    "\r\n",
    "datamart.rename(\r\n",
    "\r\n",
    "    columns={'InvoiceDate':'Recency', 'InvoiceNo': 'Frequency', 'TotalSum':'Monetary'}, \r\n",
    "    inplace=True\r\n",
    ")\r\n",
    "\r\n",
    "# Normalize Data\r\n",
    "from pre_processing import pre_processing\r\n",
    "datamart_normalized = pre_processing(datamart)\r\n",
    "print(datamart_normalized)"
   ],
   "outputs": [
    {
     "output_type": "stream",
     "name": "stdout",
     "text": [
      "[[ 1.15675823 -2.23027241 -6.28046783]\n",
      " [-1.84932793  1.13341891  1.10386252]\n",
      " [ 0.3876675  -0.1864624   0.6060052 ]\n",
      " ...\n",
      " [-0.8379603  -0.83449302 -0.7145243 ]\n",
      " [-1.27833502  2.19530371  0.69324521]\n",
      " [ 0.09328903  0.42090602  0.61856518]]\n"
     ]
    }
   ],
   "metadata": {}
  },
  {
   "cell_type": "code",
   "execution_count": 5,
   "source": [
    "# Methods to define the number of clusters\r\n",
    "    # Visualize Methods - elbow critrion -> with in cluster SSE\r\n",
    "    # Mathematical Methods - silhouette coefficient\r\n",
    "    # Experimentation and Interpetation\r\n",
    "\r\n",
    "#Choosing the number of clusters\r\n",
    "\r\n",
    "from sklearn.cluster import KMeans\r\n",
    "import seaborn as sns\r\n",
    "import matplotlib.pyplot as plt\r\n",
    "\r\n",
    "sse = {}\r\n",
    "for k in range(1, 11):\r\n",
    "\r\n",
    "    kmeans = KMeans(n_clusters=k, random_state=1)\r\n",
    "    kmeans.fit(datamart_normalized)\r\n",
    "    sse[k] = kmeans.inertia_\r\n",
    "\r\n",
    "plt.title('The Elbow Method')\r\n",
    "plt.xlabel('k') \r\n",
    "plt.ylabel('SSE')\r\n",
    "sns.pointplot(x=list(sse.keys()), y=list(sse.values()))\r\n",
    "plt.plot()"
   ],
   "outputs": [
    {
     "output_type": "execute_result",
     "data": {
      "text/plain": [
       "[]"
      ]
     },
     "metadata": {},
     "execution_count": 5
    },
    {
     "output_type": "display_data",
     "data": {
      "image/png": "[encoded data removed]",
      "text/plain": [
       "<Figure size 432x288 with 1 Axes>"
      ]
     },
     "metadata": {
      "needs_background": "light"
     }
    }
   ],
   "metadata": {}
  },
  {
   "cell_type": "code",
   "execution_count": 9,
   "source": [
    "kmeans = KMeans(n_clusters=3, random_state=1)\r\n",
    "kmeans.fit(datamart_normalized)\r\n",
    "cluster_labels = kmeans.labels_\r\n",
    "print(cluster_labels)\r\n",
    "print(kmeans.cluster_centers_)\r\n",
    "\r\n",
    "# Analyze Clusters\r\n",
    "\r\n",
    "datamart_RFM_K3 = datamart.assign(Cluster = cluster_labels)\r\n",
    "\r\n",
    "datamart_RFM_K3.groupby('Cluster').agg(\r\n",
    "    {\r\n",
    "        'Recency': 'mean',\r\n",
    "        'Frequency': 'mean',\r\n",
    "        'Monetary': ['mean', 'count']\r\n",
    "    }\r\n",
    ").round(1)"
   ],
   "outputs": [
    {
     "output_type": "stream",
     "name": "stdout",
     "text": [
      "[1 0 2 ... 2 0 0]\n",
      "[[-0.68710587  0.8621429   0.66228858]\n",
      " [ 0.74427483 -1.77360309 -6.28046783]\n",
      " [ 0.47974731 -0.58353828 -0.34037359]]\n"
     ]
    },
    {
     "output_type": "execute_result",
     "data": {
      "text/html": [
       "<div>\n",
       "<style scoped>\n",
       "    .dataframe tbody tr th:only-of-type {\n",
       "        vertical-align: middle;\n",
       "    }\n",
       "\n",
       "    .dataframe tbody tr th {\n",
       "        vertical-align: top;\n",
       "    }\n",
       "\n",
       "    .dataframe thead tr th {\n",
       "        text-align: left;\n",
       "    }\n",
       "\n",
       "    .dataframe thead tr:last-of-type th {\n",
       "        text-align: right;\n",
       "    }\n",
       "</style>\n",
       "<table border=\"1\" class=\"dataframe\">\n",
       "  <thead>\n",
       "    <tr>\n",
       "      <th></th>\n",
       "      <th>Recency</th>\n",
       "      <th>Frequency</th>\n",
       "      <th colspan=\"2\" halign=\"left\">Monetary</th>\n",
       "    </tr>\n",
       "    <tr>\n",
       "      <th></th>\n",
       "      <th>mean</th>\n",
       "      <th>mean</th>\n",
       "      <th>mean</th>\n",
       "      <th>count</th>\n",
       "    </tr>\n",
       "    <tr>\n",
       "      <th>Cluster</th>\n",
       "      <th></th>\n",
       "      <th></th>\n",
       "      <th></th>\n",
       "      <th></th>\n",
       "    </tr>\n",
       "  </thead>\n",
       "  <tbody>\n",
       "    <tr>\n",
       "      <th>0</th>\n",
       "      <td>26.3</td>\n",
       "      <td>187.6</td>\n",
       "      <td>3905.5</td>\n",
       "      <td>1815</td>\n",
       "    </tr>\n",
       "    <tr>\n",
       "      <th>1</th>\n",
       "      <td>222.6</td>\n",
       "      <td>10.8</td>\n",
       "      <td>-240.5</td>\n",
       "      <td>55</td>\n",
       "    </tr>\n",
       "    <tr>\n",
       "      <th>2</th>\n",
       "      <td>135.1</td>\n",
       "      <td>26.3</td>\n",
       "      <td>489.6</td>\n",
       "      <td>2502</td>\n",
       "    </tr>\n",
       "  </tbody>\n",
       "</table>\n",
       "</div>"
      ],
      "text/plain": [
       "        Recency Frequency Monetary      \n",
       "           mean      mean     mean count\n",
       "Cluster                                 \n",
       "0          26.3     187.6   3905.5  1815\n",
       "1         222.6      10.8   -240.5    55\n",
       "2         135.1      26.3    489.6  2502"
      ]
     },
     "metadata": {},
     "execution_count": 9
    }
   ],
   "metadata": {}
  },
  {
   "cell_type": "code",
   "execution_count": 12,
   "source": [
    "# Profile and interpret segments\r\n",
    "\r\n",
    "# Snake Plot\r\n",
    "\r\n",
    "datamart_DF = pd.DataFrame(\r\n",
    "    data=datamart_normalized,\r\n",
    "    index=datamart.index,\r\n",
    "    columns=datamart.columns,\r\n",
    ")\r\n",
    "\r\n",
    "datamart_DF['Cluster'] = datamart_RFM_K3['Cluster']\r\n",
    "\r\n",
    "datamart_melt = pd.melt(\r\n",
    "    datamart_DF.reset_index(),\r\n",
    "    id_vars=['CustomerID', 'Cluster'],\r\n",
    "    value_vars=['Recency', 'Frequency', 'Monetary'],\r\n",
    "    var_name='Attribute',\r\n",
    "    value_name='Value'\r\n",
    ")\r\n",
    "\r\n",
    "datamart_melt.head(10)\r\n",
    "\r\n",
    "plt.title('Snake Plot')\r\n",
    "sns.lineplot(x='Attribute', y='Value', hue='Cluster', data=datamart_melt)"
   ],
   "outputs": [
    {
     "output_type": "execute_result",
     "data": {
      "text/plain": [
       "<AxesSubplot:title={'center':'Snake Plot'}, xlabel='Attribute', ylabel='Value'>"
      ]
     },
     "metadata": {},
     "execution_count": 12
    },
    {
     "output_type": "display_data",
     "data": {
      "image/png": "[encoded data removed]",
      "text/plain": [
       "<Figure size 432x288 with 1 Axes>"
      ]
     },
     "metadata": {
      "needs_background": "light"
     }
    }
   ],
   "metadata": {}
  },
  {
   "cell_type": "code",
   "execution_count": 24,
   "source": [
    "# Profile and interpret segments\r\n",
    "    # Relative Importance of segment attribute\r\n",
    "\r\n",
    "cluster_avg = datamart_RFM_K3.groupby('Cluster').mean()\r\n",
    "print(cluster_avg)\r\n",
    "population_avg = datamart.mean()\r\n",
    "print(population_avg)\r\n",
    "relative_map = cluster_avg / population_avg -1\r\n",
    "relative_map = relative_map.round(2)\r\n",
    "print(relative_map)\r\n",
    "plt.figure(figsize=(8, 2))\r\n",
    "sns.heatmap(relative_map, annot=True, fmt='.2f', )"
   ],
   "outputs": [
    {
     "output_type": "stream",
     "name": "stdout",
     "text": [
      "            Recency   Frequency     Monetary\n",
      "Cluster                                     \n",
      "0         26.324518  187.626997  3905.451680\n",
      "1        222.636364   10.781818  -240.530909\n",
      "2        135.105516   26.256195   489.568385\n",
      "Recency        91.047118\n",
      "Frequency      93.053294\n",
      "Monetary     1898.459675\n",
      "dtype: float64\n",
      "         Recency  Frequency  Monetary\n",
      "Cluster                              \n",
      "0          -0.71       1.02      1.06\n",
      "1           1.45      -0.88     -1.13\n",
      "2           0.48      -0.72     -0.74\n"
     ]
    },
    {
     "output_type": "execute_result",
     "data": {
      "text/plain": [
       "<AxesSubplot:ylabel='Cluster'>"
      ]
     },
     "metadata": {},
     "execution_count": 24
    },
    {
     "output_type": "display_data",
     "data": {
      "image/png": "[encoded data removed]",
      "text/plain": [
       "<Figure size 576x144 with 2 Axes>"
      ]
     },
     "metadata": {
      "needs_background": "light"
     }
    }
   ],
   "metadata": {}
  }
 ],
 "metadata": {
  "orig_nbformat": 4,
  "language_info": {
   "name": "python",
   "version": "3.9.7",
   "mimetype": "text/x-python",
   "codemirror_mode": {
    "name": "ipython",
    "version": 3
   },
   "pygments_lexer": "ipython3",
   "nbconvert_exporter": "python",
   "file_extension": ".py"
  },
  "kernelspec": {
   "name": "python3",
   "display_name": "Python 3.9.7 64-bit ('env': venv)"
  },
  "interpreter": {
   "hash": "c266eabc5e36c85e9b40ca354ac89ce4c7d79fbc18b87eaf61b0c136d6971408"
  }
 },
 "nbformat": 4,
 "nbformat_minor": 2
}