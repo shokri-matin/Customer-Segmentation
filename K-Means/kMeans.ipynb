{
 "cells": [
  {
   "cell_type": "code",
   "execution_count": 11,
   "source": [
    "# Import Data\r\n",
    "import pandas as pd\r\n",
    "\r\n",
    "dataframe = pd.read_csv(\"Online Retail.csv\", encoding = \"ISO-8859-1\")\r\n",
    "dataframe[\"InvoiceDate\"] = pd.to_datetime(dataframe[\"InvoiceDate\"])\r\n",
    "dataframe.head()\r\n",
    "\r\n",
    "\r\n",
    "# Calculate RFM\r\n",
    "dataframe['TotalSum'] = dataframe['Quantity'] * dataframe['UnitPrice']\r\n",
    "snapshot_date = max(dataframe.InvoiceDate)\r\n",
    "datamart = dataframe.groupby('CustomerID').agg(\r\n",
    "    {\r\n",
    "        'InvoiceDate': lambda x: (snapshot_date - x.max()).days,\r\n",
    "        'InvoiceNo': 'count',\r\n",
    "        'TotalSum': 'sum'\r\n",
    "    }\r\n",
    ").round(1)\r\n",
    "\r\n",
    "datamart.rename(\r\n",
    "\r\n",
    "    columns={'InvoiceDate':'Recency', 'InvoiceNo': 'Frequency', 'TotalSum':'Monetary'}, \r\n",
    "    inplace=True\r\n",
    ")\r\n",
    "\r\n",
    "# Normalize Data\r\n",
    "from pre_processing import pre_processing\r\n",
    "datamart_normalized = pre_processing(datamart)\r\n",
    "print(datamart_normalized)"
   ],
   "outputs": [
    {
     "output_type": "stream",
     "name": "stdout",
     "text": [
      "[[ 1.15675823 -2.23027241 -6.28046783]\n",
      " [-1.84932793  1.13341891  1.10386252]\n",
      " [ 0.3876675  -0.1864624   0.6060052 ]\n",
      " ...\n",
      " [-0.8379603  -0.83449302 -0.7145243 ]\n",
      " [-1.27833502  2.19530371  0.69324521]\n",
      " [ 0.09328903  0.42090602  0.61856518]]\n"
     ]
    }
   ],
   "metadata": {}
  },
  {
   "cell_type": "code",
   "execution_count": 12,
   "source": [
    "# Practical implementation of k-means clustering\r\n",
    "\r\n",
    "from sklearn.cluster import KMeans\r\n",
    "kmeans = KMeans(n_clusters=2, random_state=1)\r\n",
    "kmeans.fit(datamart_normalized)\r\n",
    "cluster_labels = kmeans.labels_\r\n",
    "print(cluster_labels)\r\n",
    "print(kmeans.cluster_centers_)\r\n"
   ],
   "outputs": [
    {
     "output_type": "stream",
     "name": "stdout",
     "text": [
      "[1 0 1 ... 1 0 0]\n",
      "[[-0.61546258  0.81083453  0.62331087]\n",
      " [ 0.5071083  -0.66808436 -0.51357488]]\n"
     ]
    }
   ],
   "metadata": {}
  },
  {
   "cell_type": "code",
   "execution_count": 13,
   "source": [
    "# Analyze Clusters\r\n",
    "\r\n",
    "datamart_RFM_K2 = datamart.assign(Cluster = cluster_labels)\r\n",
    "\r\n",
    "datamart_RFM_K2.groupby('Cluster').agg(\r\n",
    "    {\r\n",
    "        'Recency': 'mean',\r\n",
    "        'Frequency': 'mean',\r\n",
    "        'Monetary': ['mean', 'count']\r\n",
    "    }\r\n",
    ").round(1)"
   ],
   "outputs": [
    {
     "output_type": "execute_result",
     "data": {
      "text/html": [
       "<div>\n",
       "<style scoped>\n",
       "    .dataframe tbody tr th:only-of-type {\n",
       "        vertical-align: middle;\n",
       "    }\n",
       "\n",
       "    .dataframe tbody tr th {\n",
       "        vertical-align: top;\n",
       "    }\n",
       "\n",
       "    .dataframe thead tr th {\n",
       "        text-align: left;\n",
       "    }\n",
       "\n",
       "    .dataframe thead tr:last-of-type th {\n",
       "        text-align: right;\n",
       "    }\n",
       "</style>\n",
       "<table border=\"1\" class=\"dataframe\">\n",
       "  <thead>\n",
       "    <tr>\n",
       "      <th></th>\n",
       "      <th>Recency</th>\n",
       "      <th>Frequency</th>\n",
       "      <th colspan=\"2\" halign=\"left\">Monetary</th>\n",
       "    </tr>\n",
       "    <tr>\n",
       "      <th></th>\n",
       "      <th>mean</th>\n",
       "      <th>mean</th>\n",
       "      <th>mean</th>\n",
       "      <th>count</th>\n",
       "    </tr>\n",
       "    <tr>\n",
       "      <th>Cluster</th>\n",
       "      <th></th>\n",
       "      <th></th>\n",
       "      <th></th>\n",
       "      <th></th>\n",
       "    </tr>\n",
       "  </thead>\n",
       "  <tbody>\n",
       "    <tr>\n",
       "      <th>0</th>\n",
       "      <td>30.2</td>\n",
       "      <td>177.2</td>\n",
       "      <td>3670.2</td>\n",
       "      <td>1978</td>\n",
       "    </tr>\n",
       "    <tr>\n",
       "      <th>1</th>\n",
       "      <td>141.3</td>\n",
       "      <td>23.5</td>\n",
       "      <td>434.6</td>\n",
       "      <td>2394</td>\n",
       "    </tr>\n",
       "  </tbody>\n",
       "</table>\n",
       "</div>"
      ],
      "text/plain": [
       "        Recency Frequency Monetary      \n",
       "           mean      mean     mean count\n",
       "Cluster                                 \n",
       "0          30.2     177.2   3670.2  1978\n",
       "1         141.3      23.5    434.6  2394"
      ]
     },
     "metadata": {},
     "execution_count": 13
    }
   ],
   "metadata": {}
  }
 ],
 "metadata": {
  "orig_nbformat": 4,
  "language_info": {
   "name": "python",
   "version": "3.9.7",
   "mimetype": "text/x-python",
   "codemirror_mode": {
    "name": "ipython",
    "version": 3
   },
   "pygments_lexer": "ipython3",
   "nbconvert_exporter": "python",
   "file_extension": ".py"
  },
  "kernelspec": {
   "name": "python3",
   "display_name": "Python 3.9.7 64-bit ('env': venv)"
  },
  "interpreter": {
   "hash": "c266eabc5e36c85e9b40ca354ac89ce4c7d79fbc18b87eaf61b0c136d6971408"
  }
 },
 "nbformat": 4,
 "nbformat_minor": 2
}